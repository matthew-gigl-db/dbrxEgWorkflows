{
 "cells": [
  {
   "cell_type": "markdown",
   "metadata": {
    "application/vnd.databricks.v1+cell": {
     "cellMetadata": {},
     "inputWidgets": {},
     "nuid": "c19c427e-8db7-4cf4-883e-813fea8e8fca",
     "showTitle": false,
     "tableResultSettingsMap": {},
     "title": ""
    }
   },
   "source": [
    "# Machine Learning Model Serving for the Masses \n",
    "## Creating SQL UDFs in Unity Catalog for Use Reporting & Dashboards"
   ]
  },
  {
   "cell_type": "code",
   "execution_count": 0,
   "metadata": {
    "application/vnd.databricks.v1+cell": {
     "cellMetadata": {
      "byteLimit": 2048000,
      "rowLimit": 10000
     },
     "inputWidgets": {},
     "nuid": "133dbd6f-372c-415b-80c2-5be9f3a0a62f",
     "showTitle": true,
     "tableResultSettingsMap": {},
     "title": "Use ai_query to Query any Mosaic AI Model Serving Endpoint in SQL"
    }
   },
   "outputs": [],
   "source": [
    "SELECT\n",
    "  ai_query(\n",
    "    'patient_readmission_endpoint',\n",
    "    request =>\n",
    "      named_struct(\n",
    "        \"MARITAL_M\", 0,\n",
    "        \"MARITAL_S\", 1,\n",
    "        \"RACE_asian\", 0,\n",
    "        \"RACE_black\", 0,\n",
    "        \"RACE_hawaiian\", 0,\n",
    "        \"RACE_other\", 0,\n",
    "        \"RACE_white\", 1,\n",
    "        \"ETHNICITY_hispanic\", 0,\n",
    "        \"ETHNICITY_nonhispanic\", 1,\n",
    "        \"GENDER_F\", 0,\n",
    "        \"GENDER_M\", 1,\n",
    "        \"INCOME\", 30440,\n",
    "        \"BASE_ENCOUNTER_COST\", 85.55,\n",
    "        \"TOTAL_CLAIM_COST\", 802.11,\n",
    "        \"PAYER_COVERAGE\", 0,\n",
    "        \"enc_length\", 2908,\n",
    "        \"ENCOUNTERCLASS_ambulatory\", 0,\n",
    "        \"ENCOUNTERCLASS_emergency\", 0,\n",
    "        \"ENCOUNTERCLASS_hospice\", 0,\n",
    "        \"ENCOUNTERCLASS_inpatient\", 0,\n",
    "        \"ENCOUNTERCLASS_outpatient\", 1,\n",
    "        \"ENCOUNTERCLASS_wellness\", 0,\n",
    "        \"age_at_encounter\", 41.530458590006845\n",
    "      )\n",
    "      ,returnType => 'float'\n",
    "  ) as patient_readmission_risk"
   ]
  },
  {
   "cell_type": "code",
   "execution_count": 0,
   "metadata": {
    "application/vnd.databricks.v1+cell": {
     "cellMetadata": {
      "byteLimit": 2048000,
      "rowLimit": 10000
     },
     "inputWidgets": {},
     "nuid": "b873ffae-534a-4fe1-9803-ae04af323430",
     "showTitle": true,
     "tableResultSettingsMap": {},
     "title": "Set the Catalog and Schema to Store the SQL UDFs"
    }
   },
   "outputs": [],
   "source": [
    "USE mgiglia.hls_genie;"
   ]
  },
  {
   "cell_type": "code",
   "execution_count": 0,
   "metadata": {
    "application/vnd.databricks.v1+cell": {
     "cellMetadata": {
      "byteLimit": 2048000,
      "rowLimit": 10000
     },
     "inputWidgets": {},
     "nuid": "7bc10b23-bcd4-4a8e-9af7-22cdd19fa479",
     "showTitle": true,
     "tableResultSettingsMap": {},
     "title": "Show the Tables Available"
    }
   },
   "outputs": [],
   "source": [
    "SHOW TABLES;"
   ]
  },
  {
   "cell_type": "code",
   "execution_count": 0,
   "metadata": {
    "application/vnd.databricks.v1+cell": {
     "cellMetadata": {
      "byteLimit": 2048000,
      "rowLimit": 10000
     },
     "inputWidgets": {},
     "nuid": "8a26d609-d539-46ef-9072-e2e0b97913fe",
     "showTitle": true,
     "tableResultSettingsMap": {},
     "title": "Ensure the data needed for Scoring is Available to Query"
    }
   },
   "outputs": [],
   "source": [
    "SELECT DISTINCT\n",
    "  p.patient_id\n",
    "  ,p.birth_date\n",
    "  ,p.gender\n",
    "  ,p.ethnicity\n",
    "  ,p.marital\n",
    "  ,p.race\n",
    "  ,p.income\n",
    "  ,e.start as enc_start\n",
    "  ,e.stop as enc_stop\n",
    "  ,e.total_claim_cost\n",
    "  ,e.payer_coverage\n",
    "  ,e.encounter_class\n",
    "FROM \n",
    "  patients as p\n",
    "  ,encounters as e JOIN payers ON e.patient_id = p.patient_id\n",
    ";"
   ]
  },
  {
   "cell_type": "code",
   "execution_count": 0,
   "metadata": {
    "application/vnd.databricks.v1+cell": {
     "cellMetadata": {
      "byteLimit": 2048000,
      "rowLimit": 10000
     },
     "inputWidgets": {},
     "nuid": "cca0fca0-e659-41b2-8772-0132e5bf0088",
     "showTitle": true,
     "tableResultSettingsMap": {},
     "title": "Create the Age at Encounter Function"
    }
   },
   "outputs": [],
   "source": [
    "CREATE OR REPLACE FUNCTION age_at_encounter(\n",
    "  birth_date DATE COMMENT 'Patient birth date'\n",
    "  ,enc_date DATE COMMENT 'Encounter date or encounter start date'\n",
    ") \n",
    "RETURNS DOUBLE COMMENT 'Age at encounter'\n",
    "RETURN \n",
    "  DATEDIFF(enc_date, birth_date) / 365.25;"
   ]
  },
  {
   "cell_type": "code",
   "execution_count": 0,
   "metadata": {
    "application/vnd.databricks.v1+cell": {
     "cellMetadata": {
      "byteLimit": 2048000,
      "rowLimit": 10000
     },
     "inputWidgets": {},
     "nuid": "13127c79-39bf-4246-8555-69a56542d2dd",
     "showTitle": true,
     "tableResultSettingsMap": {},
     "title": "Test the Age at Encounter Function"
    }
   },
   "outputs": [],
   "source": [
    "select \n",
    "  p.patient_id\n",
    "  ,p.birth_date\n",
    "  ,e.start\n",
    "  ,age_at_encounter(p.birth_date, e.start) as age_at_encounter \n",
    "from \n",
    "  patients as p join \n",
    "  encounters as e on p.patient_id = e.patient_id\n",
    ";"
   ]
  },
  {
   "cell_type": "code",
   "execution_count": 0,
   "metadata": {
    "application/vnd.databricks.v1+cell": {
     "cellMetadata": {
      "byteLimit": 2048000,
      "rowLimit": 10000
     },
     "inputWidgets": {},
     "nuid": "50e1c083-bd93-4003-9891-ee6e0d24c24e",
     "showTitle": false,
     "tableResultSettingsMap": {},
     "title": ""
    }
   },
   "outputs": [],
   "source": [
    "DROP FUNCTION race_one_hot;"
   ]
  },
  {
   "cell_type": "code",
   "execution_count": 0,
   "metadata": {
    "application/vnd.databricks.v1+cell": {
     "cellMetadata": {
      "byteLimit": 2048000,
      "rowLimit": 10000
     },
     "inputWidgets": {},
     "nuid": "956c09d0-771e-4e9a-848e-2b1d316557e8",
     "showTitle": true,
     "tableResultSettingsMap": {},
     "title": "Create the Race One Hot Encoding Function"
    }
   },
   "outputs": [],
   "source": [
    "CREATE OR REPLACE FUNCTION race_one_hot(\n",
    "  race STRING COMMENT 'Patient race'\n",
    ")\n",
    "RETURNS STRUCT<\n",
    "  RACE_asian INTEGER,\n",
    "  RACE_black INTEGER,\n",
    "  RACE_hawaiian INTEGER,\n",
    "  RACE_other INTEGER,\n",
    "  RACE_white INTEGER\n",
    "> COMMENT 'One hot encoded race'\n",
    "RETURN STRUCT(\n",
    "  CASE WHEN race = 'asian' THEN 1 ELSE 0 END AS RACE_asian,\n",
    "  CASE WHEN race = 'black' THEN 1 ELSE 0 END AS RACE_black,\n",
    "  CASE WHEN race = 'hawaiian' THEN 1 ELSE 0 END AS RACE_hawaiian,\n",
    "  CASE WHEN race = 'other' THEN 1 ELSE 0 END AS RACE_other,\n",
    "  CASE WHEN race = 'white' THEN 1 ELSE 0 END AS RACE_white\n",
    ")\n",
    ";"
   ]
  },
  {
   "cell_type": "code",
   "execution_count": 0,
   "metadata": {
    "application/vnd.databricks.v1+cell": {
     "cellMetadata": {
      "byteLimit": 2048000,
      "rowLimit": 10000
     },
     "inputWidgets": {},
     "nuid": "9c7d5369-28e0-421f-8a4a-3d42083bf3e9",
     "showTitle": true,
     "tableResultSettingsMap": {},
     "title": "Test the Race One Hot Encoded Function"
    }
   },
   "outputs": [],
   "source": [
    "SELECT\n",
    "  p.patient_id\n",
    "  ,p.race\n",
    "  ,race_one_hot(p.race) as race_one_hot\n",
    "FROM patients p"
   ]
  },
  {
   "cell_type": "code",
   "execution_count": 0,
   "metadata": {
    "application/vnd.databricks.v1+cell": {
     "cellMetadata": {
      "byteLimit": 2048000,
      "rowLimit": 10000
     },
     "inputWidgets": {},
     "nuid": "54120d99-b449-4461-8bff-83189ca9a65e",
     "showTitle": true,
     "tableResultSettingsMap": {},
     "title": "Create a Marital Status One Hot Encoded Function"
    }
   },
   "outputs": [],
   "source": [
    "CREATE OR REPLACE FUNCTION marital_one_hot(\n",
    "  marital STRING COMMENT 'Patient marital status'\n",
    ")\n",
    "RETURNS STRUCT<marital_s: INT, marital_m: INT> COMMENT 'One hot encoded marital status'\n",
    "RETURN named_struct(\n",
    "  'MARITAL_S', CASE WHEN marital = 'S' THEN 1 ELSE 0 END,\n",
    "  'MARITAL_M', CASE WHEN marital = 'M' THEN 1 ELSE 0 END\n",
    ");"
   ]
  },
  {
   "cell_type": "code",
   "execution_count": 0,
   "metadata": {
    "application/vnd.databricks.v1+cell": {
     "cellMetadata": {
      "byteLimit": 2048000,
      "rowLimit": 10000
     },
     "inputWidgets": {},
     "nuid": "63788fd6-7f9e-4e67-807f-1ff2782fcffe",
     "showTitle": true,
     "tableResultSettingsMap": {},
     "title": "Test the Marital Status One Hot Encoded Function"
    }
   },
   "outputs": [],
   "source": [
    "SELECT \n",
    "  marital\n",
    "  ,marital_one_hot(marital) as marital_one_hot\n",
    "FROM patients;"
   ]
  },
  {
   "cell_type": "code",
   "execution_count": 0,
   "metadata": {
    "application/vnd.databricks.v1+cell": {
     "cellMetadata": {
      "byteLimit": 2048000,
      "rowLimit": 10000
     },
     "inputWidgets": {},
     "nuid": "0d5b45d3-cb00-46ff-aaf6-361594625cc6",
     "showTitle": true,
     "tableResultSettingsMap": {},
     "title": "Create an Ethnicity One Hot Encoded Function"
    }
   },
   "outputs": [],
   "source": [
    "CREATE OR REPLACE FUNCTION ethnicity_one_hot(ethnicity STRING)\n",
    "RETURNS STRUCT<\n",
    "  ETHNICITY_hispanic: INT, \n",
    "  ETHNICITY_nonhispanic: INT\n",
    ">\n",
    "RETURN \n",
    "  CASE \n",
    "    WHEN ethnicity = 'hispanic' THEN named_struct('ETHNICITY_hispanic', 1, 'ETHNICITY_nonhispanic', 0)\n",
    "    ELSE named_struct('ETHNICITY_hispanic', 0, 'ETHNICITY_nonhispanic', 1)\n",
    "  END;"
   ]
  },
  {
   "cell_type": "code",
   "execution_count": 0,
   "metadata": {
    "application/vnd.databricks.v1+cell": {
     "cellMetadata": {
      "byteLimit": 2048000,
      "rowLimit": 10000
     },
     "inputWidgets": {},
     "nuid": "d93242d6-253b-4759-85d0-7a54e05a940c",
     "showTitle": true,
     "tableResultSettingsMap": {},
     "title": "Test the Ethnicity One Hot Encoded Function"
    }
   },
   "outputs": [],
   "source": [
    "select\n",
    "  ethnicity\n",
    "  ,ethnicity_one_hot(ethnicity) as ethnicity_one_hot\n",
    "from patients"
   ]
  },
  {
   "cell_type": "code",
   "execution_count": 0,
   "metadata": {
    "application/vnd.databricks.v1+cell": {
     "cellMetadata": {
      "byteLimit": 2048000,
      "rowLimit": 10000
     },
     "inputWidgets": {},
     "nuid": "7f9a089b-0ab6-4e43-88c2-40a83f4d811f",
     "showTitle": true,
     "tableResultSettingsMap": {},
     "title": "Create the Gender One Hot Encoded Function"
    }
   },
   "outputs": [],
   "source": [
    "create or replace function gender_one_hot(gender string)\n",
    "returns struct<GENDER_F: int, GENDER_M: int>\n",
    "return named_struct(\n",
    "  'GENDER_F', case when gender = 'F' then 1 else 0 end,\n",
    "  'GENDER_M', case when gender = 'M' then 1 else 0 end\n",
    ")"
   ]
  },
  {
   "cell_type": "code",
   "execution_count": 0,
   "metadata": {
    "application/vnd.databricks.v1+cell": {
     "cellMetadata": {
      "byteLimit": 2048000,
      "rowLimit": 10000
     },
     "inputWidgets": {},
     "nuid": "c8b07cc6-496d-4484-abf8-653f9744db5a",
     "showTitle": true,
     "tableResultSettingsMap": {},
     "title": "Test the Gender Function"
    }
   },
   "outputs": [],
   "source": [
    "SELECT \n",
    "  gender\n",
    "  ,gender_one_hot(gender)\n",
    "FROM patients;"
   ]
  },
  {
   "cell_type": "code",
   "execution_count": 0,
   "metadata": {
    "application/vnd.databricks.v1+cell": {
     "cellMetadata": {
      "byteLimit": 2048000,
      "rowLimit": 10000
     },
     "inputWidgets": {},
     "nuid": "ee92d89b-31f2-43ce-98e3-4e7076087972",
     "showTitle": true,
     "tableResultSettingsMap": {},
     "title": "Create an Encounter Class One Hot Encoded Function"
    }
   },
   "outputs": [],
   "source": [
    "CREATE OR REPLACE FUNCTION encounterclass_one_hot(encounterclass STRING)\n",
    "RETURNS STRUCT<\n",
    "  ENCOUNTERCLASS_ambulatory INT,\n",
    "  ENCOUNTERCLASS_emergency INT,\n",
    "  ENCOUNTERCLASS_hospice INT,\n",
    "  ENCOUNTERCLASS_inpatient INT,\n",
    "  ENCOUNTERCLASS_outpatient INT,\n",
    "  ENCOUNTERCLASS_wellness INT\n",
    ">\n",
    "RETURN (\n",
    "  CASE encounterclass\n",
    "    WHEN 'ambulatory' THEN NAMED_STRUCT('ENCOUNTERCLASS_ambulatory', 1, 'ENCOUNTERCLASS_emergency', 0, 'ENCOUNTERCLASS_hospice', 0, 'ENCOUNTERCLASS_inpatient', 0, 'ENCOUNTERCLASS_outpatient', 0, 'ENCOUNTERCLASS_wellness', 0)\n",
    "    WHEN 'emergency' THEN NAMED_STRUCT('ENCOUNTERCLASS_ambulatory', 0, 'ENCOUNTERCLASS_emergency', 1, 'ENCOUNTERCLASS_hospice', 0, 'ENCOUNTERCLASS_inpatient', 0, 'ENCOUNTERCLASS_outpatient', 0, 'ENCOUNTERCLASS_wellness', 0)\n",
    "    WHEN 'hospice' THEN NAMED_STRUCT('ENCOUNTERCLASS_ambulatory', 0, 'ENCOUNTERCLASS_emergency', 0, 'ENCOUNTERCLASS_hospice', 1, 'ENCOUNTERCLASS_inpatient', 0, 'ENCOUNTERCLASS_outpatient', 0, 'ENCOUNTERCLASS_wellness', 0)\n",
    "    WHEN 'inpatient' THEN NAMED_STRUCT('ENCOUNTERCLASS_ambulatory', 0, 'ENCOUNTERCLASS_emergency', 0, 'ENCOUNTERCLASS_hospice', 0, 'ENCOUNTERCLASS_inpatient', 1, 'ENCOUNTERCLASS_outpatient', 0, 'ENCOUNTERCLASS_wellness', 0)\n",
    "    WHEN 'outpatient' THEN NAMED_STRUCT('ENCOUNTERCLASS_ambulatory', 0, 'ENCOUNTERCLASS_emergency', 0, 'ENCOUNTERCLASS_hospice', 0, 'ENCOUNTERCLASS_inpatient', 0, 'ENCOUNTERCLASS_outpatient', 1, 'ENCOUNTERCLASS_wellness', 0)\n",
    "    WHEN 'wellness' THEN NAMED_STRUCT('ENCOUNTERCLASS_ambulatory', 0, 'ENCOUNTERCLASS_emergency', 0, 'ENCOUNTERCLASS_hospice', 0, 'ENCOUNTERCLASS_inpatient', 0, 'ENCOUNTERCLASS_outpatient', 0, 'ENCOUNTERCLASS_wellness', 1)\n",
    "    ELSE NAMED_STRUCT('ENCOUNTERCLASS_ambulatory', 0, 'ENCOUNTERCLASS_emergency', 0, 'ENCOUNTERCLASS_hospice', 0, 'ENCOUNTERCLASS_inpatient', 0, 'ENCOUNTERCLASS_outpatient', 0, 'ENCOUNTERCLASS_wellness', 0)\n",
    "  END\n",
    ");"
   ]
  },
  {
   "cell_type": "code",
   "execution_count": 0,
   "metadata": {
    "application/vnd.databricks.v1+cell": {
     "cellMetadata": {
      "byteLimit": 2048000,
      "rowLimit": 10000
     },
     "inputWidgets": {},
     "nuid": "d7f1055a-5e46-4a7a-8e09-e73cc6f03aed",
     "showTitle": true,
     "tableResultSettingsMap": {},
     "title": "Test the Function"
    }
   },
   "outputs": [],
   "source": [
    "select \n",
    "  encounter_class\n",
    "  ,encounterclass_one_hot(encounter_class) as encounterclass_one_hot\n",
    "from encounters;"
   ]
  },
  {
   "cell_type": "code",
   "execution_count": 0,
   "metadata": {
    "application/vnd.databricks.v1+cell": {
     "cellMetadata": {
      "byteLimit": 2048000,
      "rowLimit": 10000
     },
     "inputWidgets": {},
     "nuid": "fecefc8e-6206-4c0b-b008-23a0c9fe4e55",
     "showTitle": true,
     "tableResultSettingsMap": {},
     "title": "Create the Encounter Length Function"
    }
   },
   "outputs": [],
   "source": [
    "CREATE OR REPLACE FUNCTION encouter_length (\n",
    "  start_date DATE\n",
    "  ,end_date DATE\n",
    ")\n",
    "RETURNS INTEGER COMMENT 'Length of encounter in days'\n",
    "RETURN datediff(end_date, start_date);"
   ]
  },
  {
   "cell_type": "code",
   "execution_count": 0,
   "metadata": {
    "application/vnd.databricks.v1+cell": {
     "cellMetadata": {
      "byteLimit": 2048000,
      "rowLimit": 10000
     },
     "inputWidgets": {},
     "nuid": "359f0aef-70a0-48bd-b79b-471dab078c55",
     "showTitle": true,
     "tableResultSettingsMap": {},
     "title": "Test the Function"
    }
   },
   "outputs": [],
   "source": [
    "SELECT \n",
    "  start\n",
    "  ,stop\n",
    "  ,encouter_length(start, stop) as length\n",
    "from encounters"
   ]
  },
  {
   "cell_type": "code",
   "execution_count": 0,
   "metadata": {
    "application/vnd.databricks.v1+cell": {
     "cellMetadata": {
      "byteLimit": 2048000,
      "rowLimit": 10000
     },
     "inputWidgets": {},
     "nuid": "47fa7c80-e304-424c-a22d-ac8f0b0db0dc",
     "showTitle": false,
     "tableResultSettingsMap": {},
     "title": ""
    }
   },
   "outputs": [],
   "source": [
    "DROP FUNCTION IF EXISTS create_readmit_struct;"
   ]
  },
  {
   "cell_type": "code",
   "execution_count": 0,
   "metadata": {
    "application/vnd.databricks.v1+cell": {
     "cellMetadata": {
      "byteLimit": 2048000,
      "rowLimit": 10000
     },
     "inputWidgets": {},
     "nuid": "466accb6-70e3-4e9c-844d-ce4c71b08fcc",
     "showTitle": true,
     "tableResultSettingsMap": {},
     "title": "Create the Readmit Struct Function to Put the Data In Exactly the Correct Format for ai_query"
    }
   },
   "outputs": [],
   "source": [
    "CREATE OR REPLACE FUNCTION create_readmit_struct(\n",
    "  birth_date DATE,\n",
    "  gender STRING,\n",
    "  ethnicity STRING,\n",
    "  marital STRING,\n",
    "  race STRING,\n",
    "  income INT,\n",
    "  enc_start TIMESTAMP,\n",
    "  enc_stop TIMESTAMP,\n",
    "  base_encounter_cost DOUBLE, \n",
    "  total_claim_cost DOUBLE,\n",
    "  payer_coverage DOUBLE,\n",
    "  encounter_class STRING\n",
    ")\n",
    "RETURNS STRUCT<\n",
    "  MARITAL_S LONG,\n",
    "  MARITAL_M LONG,\n",
    "  RACE_asian LONG,\n",
    "  RACE_black LONG,\n",
    "  RACE_hawaiian LONG,\n",
    "  RACE_other LONG,\n",
    "  RACE_white LONG,\n",
    "  GENDER_F LONG,\n",
    "  GENDER_M LONG, \n",
    "  INCOME LONG, \n",
    "  BASE_ENCOUNTER_COST LONG,\n",
    "  TOTAL_CLAIM_COST DOUBLE,\n",
    "  PAYER_COVERAGE DOUBLE,\n",
    "  enc_length LONG,\n",
    "  ETHNICITY_hispanic LONG, \n",
    "  ETHNICITY_nonhispanic LONG,\n",
    "  ENCOUNTERCLASS_ambulatory LONG,\n",
    "  ENCOUNTERCLASS_emergency LONG,\n",
    "  ENCOUNTERCLASS_hospice LONG,\n",
    "  ENCOUNTERCLASS_inpatient LONG,\n",
    "  ENCOUNTERCLASS_outpatient LONG,\n",
    "  ENCOUNTERCLASS_wellness LONG,\n",
    "  age_at_encounter DOUBLE \n",
    ">\n",
    "RETURN named_struct(\n",
    "  'MARITAL_S', marital_one_hot(marital).MARITAL_S,\n",
    "  'MARITAL_M', marital_one_hot(marital).MARITAL_M,\n",
    "  'RACE_asian', race_one_hot(race).RACE_asian,\n",
    "  'RACE_black', race_one_hot(race).RACE_black,\n",
    "  'RACE_hawaiian', race_one_hot(race).RACE_hawaiian,\n",
    "  'RACE_other', race_one_hot(race).RACE_other,\n",
    "  'RACE_white', race_one_hot(race).RACE_white,\n",
    "  'GENDER_F', gender_one_hot(gender).GENDER_F,\n",
    "  'GENDER_M', gender_one_hot(gender).GENDER_M,\n",
    "  'INCOME', income,\n",
    "  'BASE_ENCOUNTER_COST', base_encounter_cost,\n",
    "  'TOTAL_CLAIM_COST', total_claim_cost,\n",
    "  'PAYER_COVERAGE', payer_coverage,\n",
    "  'enc_length', encouter_length(enc_start, enc_stop),\n",
    "  'ETHNICITY_hispanic', ethnicity_one_hot(ethnicity).ETHNICITY_hispanic,\n",
    "  'ETHNICITY_nonhispanic', ethnicity_one_hot(ethnicity).ETHNICITY_nonhispanic,\n",
    "  'ENCOUNTERCLASS_ambulatory', encounterclass_one_hot(encounter_class).ENCOUNTERCLASS_ambulatory,\n",
    "  'ENCOUNTERCLASS_emergency', encounterclass_one_hot(encounter_class).ENCOUNTERCLASS_emergency,\n",
    "  'ENCOUNTERCLASS_hospice', encounterclass_one_hot(encounter_class).ENCOUNTERCLASS_hospice,\n",
    "  'ENCOUNTERCLASS_inpatient', encounterclass_one_hot(encounter_class).ENCOUNTERCLASS_inpatient,\n",
    "  'ENCOUNTERCLASS_outpatient', encounterclass_one_hot(encounter_class).ENCOUNTERCLASS_outpatient,\n",
    "  'ENCOUNTERCLASS_wellness', encounterclass_one_hot(encounter_class).ENCOUNTERCLASS_wellness,\n",
    "  'age_at_encounter', age_at_encounter(birth_date, enc_start)\n",
    ")"
   ]
  },
  {
   "cell_type": "code",
   "execution_count": 0,
   "metadata": {
    "application/vnd.databricks.v1+cell": {
     "cellMetadata": {
      "byteLimit": 2048000,
      "rowLimit": 10000
     },
     "inputWidgets": {},
     "nuid": "a0d27f32-0acc-4e6b-bd45-60bc8cf7c42e",
     "showTitle": true,
     "tableResultSettingsMap": {},
     "title": "Test the Struct Function"
    }
   },
   "outputs": [],
   "source": [
    "select \n",
    "  p.patient_id\n",
    "  ,create_readmit_struct(\n",
    "    p.birth_date\n",
    "    ,p.gender\n",
    "    ,p.ethnicity\n",
    "    ,p.marital\n",
    "    ,p.race\n",
    "    ,p.income\n",
    "    ,e.start\n",
    "    ,e.stop\n",
    "    ,e.base_encounter_cost\n",
    "    ,e.total_claim_cost\n",
    "    ,e.payer_coverage\n",
    "    ,e.encounter_class\n",
    "  )\n",
    "FROM \n",
    "  patients as p\n",
    "  ,encounters as e JOIN payers ON e.patient_id = p.patient_id\n",
    ";\n"
   ]
  },
  {
   "cell_type": "code",
   "execution_count": 0,
   "metadata": {
    "application/vnd.databricks.v1+cell": {
     "cellMetadata": {
      "byteLimit": 2048000,
      "rowLimit": 10000
     },
     "inputWidgets": {},
     "nuid": "c11448a8-95e8-4345-b313-27b16810cacb",
     "showTitle": false,
     "tableResultSettingsMap": {},
     "title": ""
    }
   },
   "outputs": [],
   "source": [
    "DROP FUNCTION IF EXISTS patient_readmission_risk;"
   ]
  },
  {
   "cell_type": "code",
   "execution_count": 0,
   "metadata": {
    "application/vnd.databricks.v1+cell": {
     "cellMetadata": {
      "byteLimit": 2048000,
      "rowLimit": 10000
     },
     "inputWidgets": {},
     "nuid": "adc7b23a-7006-4179-8f6b-bb9579328d84",
     "showTitle": true,
     "tableResultSettingsMap": {},
     "title": "Wrap the ai_query function and endpoint into an easier to query function"
    }
   },
   "outputs": [],
   "source": [
    "CREATE OR REPLACE FUNCTION patient_readmission_risk (\n",
    "  birth_date DATE,\n",
    "  gender STRING,\n",
    "  ethnicity STRING,\n",
    "  marital STRING,\n",
    "  race STRING,\n",
    "  income INT,\n",
    "  enc_start TIMESTAMP,\n",
    "  enc_stop TIMESTAMP,\n",
    "  base_encounter_cost DOUBLE,\n",
    "  total_claim_cost DOUBLE,\n",
    "  payer_coverage DOUBLE,\n",
    "  encounter_class STRING\n",
    ")\n",
    "RETURNS FLOAT COMMENT 'Predicted risk of readmission, 1 is high risk, 0 is low risk.'\n",
    "RETURN\n",
    "  ai_query(\n",
    "    'patient_readmission_endpoint'\n",
    "    ,request => create_readmit_struct(\n",
    "      birth_date\n",
    "      ,gender\n",
    "      ,ethnicity\n",
    "      ,marital\n",
    "      ,race\n",
    "      ,income\n",
    "      ,enc_start\n",
    "      ,enc_stop\n",
    "      ,base_encounter_cost\n",
    "      ,total_claim_cost\n",
    "      ,payer_coverage\n",
    "      ,encounter_class\n",
    "    )\n",
    "    ,returnType => 'float'\n",
    "  )\n",
    ";"
   ]
  },
  {
   "cell_type": "code",
   "execution_count": 0,
   "metadata": {
    "application/vnd.databricks.v1+cell": {
     "cellMetadata": {
      "byteLimit": 2048000,
      "rowLimit": 10000
     },
     "inputWidgets": {},
     "nuid": "dac8e1a5-d13a-4488-847d-5261be71d3e3",
     "showTitle": true,
     "tableResultSettingsMap": {},
     "title": "Find the Patient Readmission Risk for Each Patient/Encounter"
    }
   },
   "outputs": [],
   "source": [
    "SELECT \n",
    "  p.patient_id\n",
    "  ,e.encounter_id\n",
    "  ,patient_readmission_risk(\n",
    "    p.birth_date\n",
    "    ,p.gender\n",
    "    ,p.ethnicity\n",
    "    ,p.marital\n",
    "    ,p.race\n",
    "    ,p.income\n",
    "    ,e.start\n",
    "    ,e.stop\n",
    "    ,e.base_encounter_cost\n",
    "    ,e.total_claim_cost\n",
    "    ,e.payer_coverage\n",
    "    ,e.encounter_class\n",
    "  ) as patient_readmission_risk\n",
    "FROM \n",
    "  patients as p INNER JOIN encounters as e ON p.patient_id = e.patient_id\n",
    ";"
   ]
  }
 ],
 "metadata": {
  "application/vnd.databricks.v1+notebook": {
   "computePreferences": null,
   "dashboards": [],
   "environmentMetadata": {
    "base_environment": "",
    "environment_version": "2"
   },
   "language": "sql",
   "notebookMetadata": {
    "pythonIndentUnit": 2
   },
   "notebookName": "SQL UDFs for Machine Learning Model Serving Outside Databricks",
   "widgets": {}
  },
  "language_info": {
   "name": "sql"
  }
 },
 "nbformat": 4,
 "nbformat_minor": 0
}
