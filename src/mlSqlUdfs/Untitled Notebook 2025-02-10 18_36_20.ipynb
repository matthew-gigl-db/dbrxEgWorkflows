{
 "cells": [
  {
   "cell_type": "code",
   "execution_count": 0,
   "metadata": {
    "application/vnd.databricks.v1+cell": {
     "cellMetadata": {
      "byteLimit": 2048000,
      "rowLimit": 10000
     },
     "inputWidgets": {},
     "nuid": "b873ffae-534a-4fe1-9803-ae04af323430",
     "showTitle": false,
     "tableResultSettingsMap": {},
     "title": ""
    }
   },
   "outputs": [],
   "source": [
    "USE mgiglia.hls_genie;"
   ]
  },
  {
   "cell_type": "code",
   "execution_count": 0,
   "metadata": {
    "application/vnd.databricks.v1+cell": {
     "cellMetadata": {},
     "inputWidgets": {},
     "nuid": "f7b9e607-738a-4f03-9782-36a91f6deda3",
     "showTitle": false,
     "tableResultSettingsMap": {},
     "title": ""
    }
   },
   "outputs": [],
   "source": [
    "\"MARITAL_M\",\n",
    "      \"MARITAL_S\",\n",
    "      \"RACE_asian\",\n",
    "      \"RACE_black\",\n",
    "      \"RACE_hawaiian\",\n",
    "      \"RACE_other\",\n",
    "      \"RACE_white\",\n",
    "      \"ETHNICITY_hispanic\",\n",
    "      \"ETHNICITY_nonhispanic\",\n",
    "      \"GENDER_F\",\n",
    "      \"GENDER_M\",\n",
    "      \"INCOME\",\n",
    "      \"BASE_ENCOUNTER_COST\",\n",
    "      \"TOTAL_CLAIM_COST\",\n",
    "      \"PAYER_COVERAGE\",\n",
    "      \"enc_length\",\n",
    "      \"ENCOUNTERCLASS_ambulatory\",\n",
    "      \"ENCOUNTERCLASS_emergency\",\n",
    "      \"ENCOUNTERCLASS_hospice\",\n",
    "      \"ENCOUNTERCLASS_inpatient\",\n",
    "      \"ENCOUNTERCLASS_outpatient\",\n",
    "      \"ENCOUNTERCLASS_wellness\",\n",
    "      \"age_at_encounter\""
   ]
  },
  {
   "cell_type": "code",
   "execution_count": 0,
   "metadata": {
    "application/vnd.databricks.v1+cell": {
     "cellMetadata": {
      "byteLimit": 2048000,
      "rowLimit": 10000
     },
     "inputWidgets": {},
     "nuid": "7bc10b23-bcd4-4a8e-9af7-22cdd19fa479",
     "showTitle": false,
     "tableResultSettingsMap": {},
     "title": ""
    }
   },
   "outputs": [],
   "source": [
    "SHOW TABLES;"
   ]
  },
  {
   "cell_type": "code",
   "execution_count": 0,
   "metadata": {
    "application/vnd.databricks.v1+cell": {
     "cellMetadata": {
      "byteLimit": 2048000,
      "rowLimit": 10000
     },
     "inputWidgets": {},
     "nuid": "8a26d609-d539-46ef-9072-e2e0b97913fe",
     "showTitle": false,
     "tableResultSettingsMap": {},
     "title": ""
    }
   },
   "outputs": [],
   "source": [
    "SELECT DISTINCT\n",
    "  p.patient_id\n",
    "  ,p.birth_date\n",
    "  ,p.gender\n",
    "  ,p.ethnicity\n",
    "  ,p.marital\n",
    "  ,p.race\n",
    "  ,p.income\n",
    "  ,e.start as enc_start\n",
    "  ,e.stop as enc_stop\n",
    "  ,e.total_claim_cost\n",
    "  ,e.payer_coverage\n",
    "  ,e.encounter_class\n",
    "FROM \n",
    "  patients as p\n",
    "  ,encounters as e JOIN payers ON e.patient_id = p.patient_id\n",
    ";"
   ]
  },
  {
   "cell_type": "code",
   "execution_count": 0,
   "metadata": {
    "application/vnd.databricks.v1+cell": {
     "cellMetadata": {
      "byteLimit": 2048000,
      "rowLimit": 10000
     },
     "inputWidgets": {},
     "nuid": "cca0fca0-e659-41b2-8772-0132e5bf0088",
     "showTitle": false,
     "tableResultSettingsMap": {},
     "title": ""
    }
   },
   "outputs": [],
   "source": [
    "CREATE OR REPLACE FUNCTION age_at_encounter(\n",
    "  birth_date DATE COMMENT 'Patient birth date'\n",
    "  ,enc_date DATE COMMENT 'Encounter date or encounter start date'\n",
    ") \n",
    "RETURNS INT COMMENT 'Age at encounter'\n",
    "RETURN \n",
    "  CASE \n",
    "    WHEN MONTH(enc_date) > MONTH(birth_date) OR (MONTH(enc_date) = MONTH(birth_date) AND DAY(enc_date) >= DAY(birth_date)) \n",
    "    THEN YEAR(enc_date) - YEAR(birth_date) \n",
    "    ELSE YEAR(enc_date) - YEAR(birth_date) - 1 \n",
    "  END;"
   ]
  },
  {
   "cell_type": "code",
   "execution_count": 0,
   "metadata": {
    "application/vnd.databricks.v1+cell": {
     "cellMetadata": {
      "byteLimit": 2048000,
      "rowLimit": 10000
     },
     "inputWidgets": {},
     "nuid": "13127c79-39bf-4246-8555-69a56542d2dd",
     "showTitle": false,
     "tableResultSettingsMap": {},
     "title": ""
    }
   },
   "outputs": [],
   "source": [
    "select \n",
    "  p.patient_id\n",
    "  ,p.birth_date\n",
    "  ,e.start\n",
    "  ,age_at_encounter(p.birth_date, e.start) as age_at_encounter \n",
    "from \n",
    "  patients as p join \n",
    "  encounters as e on p.patient_id = e.patient_id\n",
    ";"
   ]
  },
  {
   "cell_type": "code",
   "execution_count": 0,
   "metadata": {
    "application/vnd.databricks.v1+cell": {
     "cellMetadata": {
      "byteLimit": 2048000,
      "rowLimit": 10000
     },
     "inputWidgets": {},
     "nuid": "50e1c083-bd93-4003-9891-ee6e0d24c24e",
     "showTitle": false,
     "tableResultSettingsMap": {},
     "title": ""
    }
   },
   "outputs": [],
   "source": [
    "DROP FUNCTION race_one_hot;"
   ]
  },
  {
   "cell_type": "code",
   "execution_count": 0,
   "metadata": {
    "application/vnd.databricks.v1+cell": {
     "cellMetadata": {
      "byteLimit": 2048000,
      "rowLimit": 10000
     },
     "inputWidgets": {},
     "nuid": "956c09d0-771e-4e9a-848e-2b1d316557e8",
     "showTitle": false,
     "tableResultSettingsMap": {},
     "title": ""
    }
   },
   "outputs": [],
   "source": [
    "CREATE OR REPLACE FUNCTION race_one_hot(\n",
    "  race STRING COMMENT 'Patient race'\n",
    ")\n",
    "RETURNS STRUCT<\n",
    "  RACE_asian INTEGER,\n",
    "  RACE_black INTEGER,\n",
    "  RACE_hawaiian INTEGER,\n",
    "  RACE_other INTEGER,\n",
    "  RACE_white INTEGER\n",
    "> COMMENT 'One hot encoded race'\n",
    "RETURN STRUCT(\n",
    "  CASE WHEN race = 'asian' THEN 1 ELSE 0 END AS RACE_asian,\n",
    "  CASE WHEN race = 'black' THEN 1 ELSE 0 END AS RACE_black,\n",
    "  CASE WHEN race = 'hawaiian' THEN 1 ELSE 0 END AS RACE_hawaiian,\n",
    "  CASE WHEN race = 'other' THEN 1 ELSE 0 END AS RACE_other,\n",
    "  CASE WHEN race = 'white' THEN 1 ELSE 0 END AS RACE_white\n",
    ")\n",
    ";"
   ]
  },
  {
   "cell_type": "code",
   "execution_count": 0,
   "metadata": {
    "application/vnd.databricks.v1+cell": {
     "cellMetadata": {
      "byteLimit": 2048000,
      "rowLimit": 10000
     },
     "inputWidgets": {},
     "nuid": "9c7d5369-28e0-421f-8a4a-3d42083bf3e9",
     "showTitle": false,
     "tableResultSettingsMap": {},
     "title": ""
    }
   },
   "outputs": [],
   "source": [
    "SELECT\n",
    "  p.patient_id\n",
    "  ,p.race\n",
    "  ,race_one_hot(p.race) as race_one_hot\n",
    "FROM patients p"
   ]
  },
  {
   "cell_type": "code",
   "execution_count": 0,
   "metadata": {
    "application/vnd.databricks.v1+cell": {
     "cellMetadata": {
      "byteLimit": 2048000,
      "rowLimit": 10000
     },
     "inputWidgets": {},
     "nuid": "54120d99-b449-4461-8bff-83189ca9a65e",
     "showTitle": false,
     "tableResultSettingsMap": {},
     "title": ""
    }
   },
   "outputs": [],
   "source": [
    "CREATE OR REPLACE FUNCTION marital_one_hot(\n",
    "  marital STRING COMMENT 'Patient marital status'\n",
    ")\n",
    "RETURNS INTEGER COMMENT 'One hot encoded martial status'\n",
    "RETURN CASE WHEN marital = 'S' THEN 1 ELSE 0 END\n",
    ";"
   ]
  },
  {
   "cell_type": "code",
   "execution_count": 0,
   "metadata": {
    "application/vnd.databricks.v1+cell": {
     "cellMetadata": {
      "byteLimit": 2048000,
      "rowLimit": 10000
     },
     "inputWidgets": {},
     "nuid": "63788fd6-7f9e-4e67-807f-1ff2782fcffe",
     "showTitle": false,
     "tableResultSettingsMap": {},
     "title": ""
    }
   },
   "outputs": [],
   "source": [
    "SELECT \n",
    "  marital\n",
    "  ,marital_one_hot(marital) as marital_one_hot\n",
    "FROM patients;"
   ]
  },
  {
   "cell_type": "code",
   "execution_count": 0,
   "metadata": {
    "application/vnd.databricks.v1+cell": {
     "cellMetadata": {
      "byteLimit": 2048000,
      "rowLimit": 10000
     },
     "inputWidgets": {},
     "nuid": "0d5b45d3-cb00-46ff-aaf6-361594625cc6",
     "showTitle": false,
     "tableResultSettingsMap": {},
     "title": ""
    }
   },
   "outputs": [],
   "source": [
    "CREATE OR REPLACE FUNCTION ethnicity_one_hot(ethnicity STRING)\n",
    "RETURNS STRUCT<ETHNICITY_hispanic: INT, ETHNICITY_nonhispanic: INT>\n",
    "RETURN \n",
    "  CASE \n",
    "    WHEN ethnicity = 'hispanic' THEN named_struct('ETHNICITY_hispanic', 1, 'ETHNICITY_nonhispanic', 0)\n",
    "    ELSE named_struct('ETHNICITY_hispanic', 0, 'ETHNICITY_nonhispanic', 1)\n",
    "  END;"
   ]
  },
  {
   "cell_type": "code",
   "execution_count": 0,
   "metadata": {
    "application/vnd.databricks.v1+cell": {
     "cellMetadata": {
      "byteLimit": 2048000,
      "rowLimit": 10000
     },
     "inputWidgets": {},
     "nuid": "d93242d6-253b-4759-85d0-7a54e05a940c",
     "showTitle": false,
     "tableResultSettingsMap": {},
     "title": ""
    }
   },
   "outputs": [],
   "source": [
    "select\n",
    "  ethnicity\n",
    "  ,ethnicity_one_hot(ethnicity) as ethnicity_one_hot\n",
    "from patients"
   ]
  },
  {
   "cell_type": "code",
   "execution_count": 0,
   "metadata": {
    "application/vnd.databricks.v1+cell": {
     "cellMetadata": {
      "byteLimit": 2048000,
      "rowLimit": 10000
     },
     "inputWidgets": {},
     "nuid": "7f9a089b-0ab6-4e43-88c2-40a83f4d811f",
     "showTitle": false,
     "tableResultSettingsMap": {},
     "title": ""
    }
   },
   "outputs": [],
   "source": [
    "create or replace function gender_one_hot(gender string)\n",
    "returns struct<GENDER_F: int, GENDER_M: int>\n",
    "return named_struct(\n",
    "  'GENDER_F', case when gender = 'F' then 1 else 0 end,\n",
    "  'GENDER_M', case when gender = 'M' then 1 else 0 end\n",
    ")"
   ]
  },
  {
   "cell_type": "code",
   "execution_count": 0,
   "metadata": {
    "application/vnd.databricks.v1+cell": {
     "cellMetadata": {
      "byteLimit": 2048000,
      "rowLimit": 10000
     },
     "inputWidgets": {},
     "nuid": "c8b07cc6-496d-4484-abf8-653f9744db5a",
     "showTitle": false,
     "tableResultSettingsMap": {},
     "title": ""
    }
   },
   "outputs": [],
   "source": [
    "SELECT \n",
    "  gender\n",
    "  ,gender_one_hot(gender)\n",
    "FROM patients;"
   ]
  },
  {
   "cell_type": "code",
   "execution_count": 0,
   "metadata": {
    "application/vnd.databricks.v1+cell": {
     "cellMetadata": {
      "byteLimit": 2048000,
      "rowLimit": 10000
     },
     "inputWidgets": {},
     "nuid": "ee92d89b-31f2-43ce-98e3-4e7076087972",
     "showTitle": false,
     "tableResultSettingsMap": {},
     "title": ""
    }
   },
   "outputs": [],
   "source": [
    "CREATE OR REPLACE FUNCTION encounterclass_one_hot(encounterclass STRING)\n",
    "RETURNS STRUCT<\n",
    "  ENCOUNTERCLASS_ambulatory INT,\n",
    "  ENCOUNTERCLASS_emergency INT,\n",
    "  ENCOUNTERCLASS_hospice INT,\n",
    "  ENCOUNTERCLASS_inpatient INT,\n",
    "  ENCOUNTERCLASS_outpatient INT,\n",
    "  ENCOUNTERCLASS_wellness INT\n",
    ">\n",
    "RETURN (\n",
    "  CASE encounterclass\n",
    "    WHEN 'ambulatory' THEN NAMED_STRUCT('ENCOUNTERCLASS_ambulatory', 1, 'ENCOUNTERCLASS_emergency', 0, 'ENCOUNTERCLASS_hospice', 0, 'ENCOUNTERCLASS_inpatient', 0, 'ENCOUNTERCLASS_outpatient', 0, 'ENCOUNTERCLASS_wellness', 0)\n",
    "    WHEN 'emergency' THEN NAMED_STRUCT('ENCOUNTERCLASS_ambulatory', 0, 'ENCOUNTERCLASS_emergency', 1, 'ENCOUNTERCLASS_hospice', 0, 'ENCOUNTERCLASS_inpatient', 0, 'ENCOUNTERCLASS_outpatient', 0, 'ENCOUNTERCLASS_wellness', 0)\n",
    "    WHEN 'hospice' THEN NAMED_STRUCT('ENCOUNTERCLASS_ambulatory', 0, 'ENCOUNTERCLASS_emergency', 0, 'ENCOUNTERCLASS_hospice', 1, 'ENCOUNTERCLASS_inpatient', 0, 'ENCOUNTERCLASS_outpatient', 0, 'ENCOUNTERCLASS_wellness', 0)\n",
    "    WHEN 'inpatient' THEN NAMED_STRUCT('ENCOUNTERCLASS_ambulatory', 0, 'ENCOUNTERCLASS_emergency', 0, 'ENCOUNTERCLASS_hospice', 0, 'ENCOUNTERCLASS_inpatient', 1, 'ENCOUNTERCLASS_outpatient', 0, 'ENCOUNTERCLASS_wellness', 0)\n",
    "    WHEN 'outpatient' THEN NAMED_STRUCT('ENCOUNTERCLASS_ambulatory', 0, 'ENCOUNTERCLASS_emergency', 0, 'ENCOUNTERCLASS_hospice', 0, 'ENCOUNTERCLASS_inpatient', 0, 'ENCOUNTERCLASS_outpatient', 1, 'ENCOUNTERCLASS_wellness', 0)\n",
    "    WHEN 'wellness' THEN NAMED_STRUCT('ENCOUNTERCLASS_ambulatory', 0, 'ENCOUNTERCLASS_emergency', 0, 'ENCOUNTERCLASS_hospice', 0, 'ENCOUNTERCLASS_inpatient', 0, 'ENCOUNTERCLASS_outpatient', 0, 'ENCOUNTERCLASS_wellness', 1)\n",
    "    ELSE NAMED_STRUCT('ENCOUNTERCLASS_ambulatory', 0, 'ENCOUNTERCLASS_emergency', 0, 'ENCOUNTERCLASS_hospice', 0, 'ENCOUNTERCLASS_inpatient', 0, 'ENCOUNTERCLASS_outpatient', 0, 'ENCOUNTERCLASS_wellness', 0)\n",
    "  END\n",
    ");"
   ]
  },
  {
   "cell_type": "code",
   "execution_count": 0,
   "metadata": {
    "application/vnd.databricks.v1+cell": {
     "cellMetadata": {
      "byteLimit": 2048000,
      "rowLimit": 10000
     },
     "inputWidgets": {},
     "nuid": "d7f1055a-5e46-4a7a-8e09-e73cc6f03aed",
     "showTitle": false,
     "tableResultSettingsMap": {},
     "title": ""
    }
   },
   "outputs": [],
   "source": [
    "select \n",
    "  encounter_class\n",
    "  ,encounterclass_one_hot(encounter_class) as encounterclass_one_hot\n",
    "from encounters;"
   ]
  },
  {
   "cell_type": "code",
   "execution_count": 0,
   "metadata": {
    "application/vnd.databricks.v1+cell": {
     "cellMetadata": {},
     "inputWidgets": {},
     "nuid": "fecefc8e-6206-4c0b-b008-23a0c9fe4e55",
     "showTitle": false,
     "tableResultSettingsMap": {},
     "title": ""
    }
   },
   "outputs": [],
   "source": []
  }
 ],
 "metadata": {
  "application/vnd.databricks.v1+notebook": {
   "computePreferences": null,
   "dashboards": [],
   "environmentMetadata": {
    "base_environment": "",
    "environment_version": "2"
   },
   "language": "sql",
   "notebookMetadata": {
    "pythonIndentUnit": 2
   },
   "notebookName": "Untitled Notebook 2025-02-10 18_36_20",
   "widgets": {}
  },
  "language_info": {
   "name": "sql"
  }
 },
 "nbformat": 4,
 "nbformat_minor": 0
}
